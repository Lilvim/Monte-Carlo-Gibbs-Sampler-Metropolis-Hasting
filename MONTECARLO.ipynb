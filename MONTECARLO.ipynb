{
 "cells": [
  {
   "cell_type": "markdown",
   "id": "f71dc89d",
   "metadata": {},
   "source": [
    "# Projet volatilité stochastique\n"
   ]
  },
  {
   "cell_type": "code",
   "execution_count": 1,
   "id": "8f7669ec",
   "metadata": {},
   "outputs": [],
   "source": [
    "import numpy as np\n",
    "import matplotlib.pyplot as plt\n",
    "from statsmodels.tsa.stattools import acf\n",
    "from statsmodels.graphics.tsaplots import plot_acf\n",
    "\n",
    "from scipy.stats import truncnorm  "
   ]
  },
  {
   "cell_type": "code",
   "execution_count": 2,
   "id": "3df05c3b",
   "metadata": {},
   "outputs": [],
   "source": [
    "class law:\n",
    "    def normal():\n",
    "        \"\"\"\n",
    "        Tirage selon Box-Muller, renvoie un couple de variable aléatoire indep\n",
    "        \"\"\"\n",
    "        U = np.random.uniform(0,1, 2)\n",
    "        #return np.sqrt(-2*np.log(U[0]))*np.array([np.cos(2*np.pi*U[1]),np.sin(2*np.pi*U[1])])\n",
    "        return np.random.normal(0,1, 2)\n",
    "    \n",
    "    def inverse_gamma(a,b):\n",
    "        \"\"\"\n",
    "        Tirage selon une inverse gamma ---->>>>>>> fonctionne bien !!!!!!\n",
    "        \"\"\"\n",
    "        return (1/(np.random.gamma(a,1/b)))\n",
    "\n",
    "    def metro_hasting(Xi,mu,sigma,theta,Y, Xi_1):  ######### IL Y A UN PROBLEME ICI !!!!!!\n",
    "        \"\"\"\n",
    "        Simulation des Xt\n",
    "        entrée :\n",
    "            - Xt = le current Xt que l'on compute\n",
    "            - mu,simga, theta = les paramètres déjà compute\n",
    "            - Y = toujours le même Y\n",
    "            - Xt_1 = Xt-1 qui sert pour Xt+1 à chaque fois que l'on souhaite caluculer Xt (Xt+1) est celui de l'itération précédente.\n",
    "        \"\"\"\n",
    "        T = len(Y)-1\n",
    "        \n",
    "        ########################## Définition des fonctions du rapport ########################################################\n",
    "        def pi_eq(x,mu,sigma,theta,y,x0,x2):\n",
    "            \"\"\"\n",
    "            Densité de la loi invariante de Xt sachant Xt-1 (x0),Xt+1 (x2) et les paramètres pour un x donnée. \n",
    "            \"\"\"\n",
    "            #return np.exp( - 1/(2*sigma**2) *( (x-mu)**2 *(1+theta**2) -2*theta*(x-mu)*(x0+x2-2*mu)) - y**2/(2*np.exp(x)) - x/2 )\n",
    "            return  (-1/(2*sigma**2))*((x-mu)**2*(1+theta**2)-2*theta*(x-mu)*(x0+x2-2*mu))-(y**2)/(2*np.exp(x))-x/2 \n",
    "        \n",
    "        def pi_T(x,mu,sigma,theta,y, x0):\n",
    "            \"\"\"\n",
    "            Densité de la loi invariante de XT sachant XT-1 (x0) et les paramètres pour un x donnée. \n",
    "            \"\"\"\n",
    "            return  (-1/(2*sigma**2))*((x-mu)**2-2*theta*(x-mu)*(x0-mu))-(y**2)/(2*np.exp(x))-x/2 \n",
    "        \n",
    "        def log_normal_density(x,mu,sigma):\n",
    "            return (-1/2)*np.log(2*np.pi*sigma**2) -(x-mu)**2/(2*sigma**2) \n",
    "        \n",
    "        ####################################################################################################################\n",
    "        \n",
    "        # itération de 0 :\n",
    "        #Xi[1] = law.normal()[0]*sigma + mu + theta*(Xi[0]-mu)\n",
    "        \n",
    "        n = 1000\n",
    "        for t in range(1,T+1): \n",
    "            xsimu = Xi_1[t]\n",
    "            for sim in range(n):\n",
    "                xnew = law.normal()[0]*sigma + mu + theta*(Xi[t-1]-mu) #Xi[0] -> simulation de -1 !\n",
    "                f11 = pi_eq(xnew,mu,sigma,theta,Y[t-1],Xi[t-1],Xi_1[t+1])\n",
    "                #f12 = log_normal_density(Xi[t-1],mu+1/theta*(xnew-mu),sigma/theta)\n",
    "                f12 = log_normal_density(xsimu,mu+theta*(Xi[t-1]-mu),sigma)\n",
    "                f1 = f11+ f12\n",
    "\n",
    "                #f21 = pi_eq(Xi[t-1],mu,sigma,theta,Y[t-1],Xi[t-1],Xi_1[t+1])\n",
    "                f21 = pi_eq(xsimu,mu,sigma,theta,Y[t-1],Xi[t-1],Xi_1[t+1])\n",
    "                f22 = log_normal_density(xnew,mu+theta*(Xi[t-1]-mu),sigma)\n",
    "                f2 = f21+f22\n",
    "                #print('f2 : {} et f_f2 = {}'.format(str(f2),str(f22)))\n",
    "\n",
    "                r1 = f1-f2\n",
    "                #print('r = '+str(r1))\n",
    "                if np.log(np.random.uniform(0,1))<min(0, r1):\n",
    "                    xsimu = xnew\n",
    "                else :\n",
    "                    #Xi[t] = Xi[t-1]\n",
    "                    xsimu = xsimu\n",
    "                    \n",
    "            Xi[t] = xsimu\n",
    "                \n",
    "            #test Metro accepte tout le temps :\n",
    "            #Xi[t] = xnew\n",
    "            \n",
    "        #iteration de T:\n",
    "        xsimu = Xi_1[T+1]\n",
    "        for sim in range(n):\n",
    "            xnew = law.normal()[0]*sigma + mu + theta*(Xi[T]-mu)\n",
    "            #f1 = pi_T(xnew,mu,sigma,theta,Y[T],Xi[T])+log_normal_density(Xi[T],mu+1/theta*(xnew-mu),sigma/theta)\n",
    "            #f2 = pi_T(Xi[T],mu,sigma,theta,Y[T],Xi[T])+log_normal_density(xnew,mu+theta*(Xi[T]-mu),sigma)\n",
    "            f1 = pi_T(xnew     ,mu,sigma,theta,Y[T],Xi[T])+log_normal_density(xsimu    ,mu+theta*(Xi[T]-mu),sigma)\n",
    "            f2 = pi_T(xsimu    ,mu,sigma,theta,Y[T],Xi[T])+log_normal_density(xnew     ,mu+theta*(Xi[T]-mu),sigma)\n",
    "\n",
    "            r = f1-f2\n",
    "            #print('r = '+str(r1))\n",
    "            if np.log(np.random.uniform(0,1))<min(0, r):\n",
    "                Xi[T+1] = xnew\n",
    "            else :\n",
    "                #Xi[T+1] = Xi[T]\n",
    "                xsimu = xsimu\n",
    "        Xi[T+1] = xsimu\n",
    "                \n",
    "        \n",
    "        \n",
    "        #test metro accepte tout le temps\n",
    "        #Xi[T+1] = xnew\n",
    "        \n",
    "        \n",
    "        return Xi[1:]\n",
    "    \n",
    "    \n",
    "    def accption(Xi,mu,sigma,theta,Y, Xi_1):  ######### IL Y A UN PROBLEME ICI !!!!!!\n",
    "        \"\"\"\n",
    "        Simulation des Xt\n",
    "        entrée :\n",
    "            - Xt = le current Xt que l'on compute\n",
    "            - mu,simga, theta = les paramètres déjà compute\n",
    "            - Y = toujours le même Y\n",
    "            - Xt_1 = Xt-1 qui sert pour Xt+1 à chaque fois que l'on souhaite caluculer Xt (Xt+1) est celui de l'itération précédente.\n",
    "        \"\"\"\n",
    "        T = len(Y)-1\n",
    "        \n",
    "        ########################## Définition des fonctions du rapport ########################################################\n",
    "        def f(x,y):\n",
    "            \"\"\"\n",
    "            Densité de la loi invariante de Xt sachant Xt-1 (x0),Xt+1 (x2) et les paramètres pour un x donnée. \n",
    "            \"\"\"\n",
    "            return  -x/2 - y**2/2*np.exp(-x)\n",
    "            \n",
    "        \n",
    "        def g(x,y,Gt):\n",
    "            return -x/2 -y**2/2*(np.exp(-Gt)*(1+Gt) - x * np.exp(-Gt))\n",
    "        \n",
    "        ####################################################################################################################\n",
    "        \n",
    "        # itération de 0 :\n",
    "        #Xi[1] = law.normal()[0]*sigma + mu + theta*(Xi[0]-mu)\n",
    "        \n",
    "        niter = 1000\n",
    "        \n",
    "        for t in range(1,T+1):\n",
    "            \n",
    "            x = 0\n",
    "            i = 0\n",
    "            Gt = mu + theta*(Xi[t-1]+Xi_1[t+1]-2*mu)/(1+theta**2)\n",
    "            eta = np.sqrt(sigma**2 / (1+theta**2))\n",
    "            while x==0 and i<niter :\n",
    "                xnew = law.normal()[0]*eta + Gt + eta**2 / 2 *(Y[t-1]**2*np.exp(-Gt)-1)\n",
    "                if np.log(np.random.uniform(0,1)) < f(xnew,Y[t-1]) - g(xnew, Y[t-1], Gt):\n",
    "                    x = xnew\n",
    "                i = i+1\n",
    "            \n",
    "            if x == 0:\n",
    "                Xi[t]=Xi_1[t]\n",
    "            else :\n",
    "                Xi[t] = xnew\n",
    "                \n",
    "        # Cas T\n",
    "        \n",
    "        x = 0\n",
    "        i = 0\n",
    "        Gt = mu + theta*(Xi[T]-mu)/(1+theta**2)\n",
    "        eta = np.sqrt(sigma**2 / (1+theta**2))\n",
    "        while x==0 and i<niter :\n",
    "            xnew = law.normal()[0]*eta + Gt + eta**2 / 2 *(Y[T]**2*np.exp(-Gt)-1) \n",
    "            if np.log(np.random.uniform(0,1)) < f(xnew,Y[T]) - g(xnew, Y[T], Gt):\n",
    "                x = xnew\n",
    "            i = i+1\n",
    "            \n",
    "        if x == 0:\n",
    "            Xi[T+1]=Xi_1[T+1]\n",
    "        else :\n",
    "            Xi[T+1] = xnew\n",
    "        \n",
    "        return Xi[1:]\n",
    "    \n",
    "    \n",
    "    \n",
    "    "
   ]
  },
  {
   "cell_type": "markdown",
   "id": "5b456371",
   "metadata": {},
   "source": [
    "# Test des lois de la classe law:\n",
    "\n",
    "## test normale :"
   ]
  },
  {
   "cell_type": "code",
   "execution_count": 3,
   "id": "dc4f0266",
   "metadata": {},
   "outputs": [],
   "source": [
    "def densite_normale(x,sigma,mu):\n",
    "    return 1/np.sqrt(2*np.pi*sigma**2) * np.exp(-(x-mu)**2 / (2*sigma**2))"
   ]
  },
  {
   "cell_type": "code",
   "execution_count": 4,
   "id": "836f5e2e",
   "metadata": {},
   "outputs": [],
   "source": [
    "a = []\n",
    "b = []\n",
    "for i in range(int(1e5)):\n",
    "    N1,N2 = law.normal()\n",
    "    a.append(N1)\n",
    "    b.append(N2)\n",
    "    \n",
    "c = [ densite_normale(x,1,0) for x in np.arange(-5,5,0.1)]"
   ]
  },
  {
   "cell_type": "code",
   "execution_count": 5,
   "id": "c396ada1",
   "metadata": {},
   "outputs": [
    {
     "data": {
      "image/png": "[encoded data removed]",
      "text/plain": [
       "<Figure size 432x288 with 1 Axes>"
      ]
     },
     "metadata": {
      "needs_background": "light"
     },
     "output_type": "display_data"
    }
   ],
   "source": [
    "plt.hist(b,100,density = True)\n",
    "plt.plot(np.arange(-5,5,0.1),c,'.')\n",
    "plt.show()"
   ]
  },
  {
   "cell_type": "code",
   "execution_count": 6,
   "id": "9afc1ab3",
   "metadata": {},
   "outputs": [
    {
     "data": {
      "image/png": "[encoded data removed]",
      "text/plain": [
       "<Figure size 432x288 with 1 Axes>"
      ]
     },
     "metadata": {
      "needs_background": "light"
     },
     "output_type": "display_data"
    }
   ],
   "source": [
    "plt.hist(a,100,density = True)\n",
    "plt.plot(np.arange(-5,5,0.1),c,'.')\n",
    "plt.show()"
   ]
  },
  {
   "cell_type": "code",
   "execution_count": 7,
   "id": "ad1c848f",
   "metadata": {},
   "outputs": [
    {
     "data": {
      "text/plain": [
       "array([[1.       , 0.0057319],\n",
       "       [0.0057319, 1.       ]])"
      ]
     },
     "execution_count": 7,
     "metadata": {},
     "output_type": "execute_result"
    }
   ],
   "source": [
    "np.corrcoef(a,b)"
   ]
  },
  {
   "cell_type": "markdown",
   "id": "83d1404f",
   "metadata": {},
   "source": [
    "It looks like we do have 2 independant normal."
   ]
  },
  {
   "cell_type": "markdown",
   "id": "38a7c1b5",
   "metadata": {},
   "source": [
    "#  test inverse gamma :\n"
   ]
  },
  {
   "cell_type": "code",
   "execution_count": 8,
   "id": "db36cea0",
   "metadata": {},
   "outputs": [],
   "source": [
    "def dens_inv_gamma(x,a,b):\n",
    "    from math import gamma\n",
    "    u = gamma(a)\n",
    "    return b**a*1/(u)*(1/x)**(a+1) * np.exp(-b/x)"
   ]
  },
  {
   "cell_type": "code",
   "execution_count": 9,
   "id": "37997f09",
   "metadata": {},
   "outputs": [],
   "source": [
    "sigma_1,S1 =5,0.01*5\n",
    "q = [law.inverse_gamma(sigma_1/2,(S1/2)) for i in range(0,10000)]\n",
    "b = np.arange(0.0001,5,0.001)\n",
    "a = [dens_inv_gamma(x,sigma_1/2,(S1/2)) for x in b]"
   ]
  },
  {
   "cell_type": "code",
   "execution_count": 10,
   "id": "53b79599",
   "metadata": {},
   "outputs": [
    {
     "data": {
      "image/png": "[encoded data removed]",
      "text/plain": [
       "<Figure size 432x288 with 1 Axes>"
      ]
     },
     "metadata": {
      "needs_background": "light"
     },
     "output_type": "display_data"
    }
   ],
   "source": [
    "plt.hist(q,1000, density = True)\n",
    "plt.plot(b,a)\n",
    "plt.xlim([0,0.2])\n",
    "plt.show()"
   ]
  },
  {
   "cell_type": "markdown",
   "id": "8432020a",
   "metadata": {},
   "source": [
    "# Gibbs sampler :\n",
    "\n",
    "## loi à simuler :\n",
    "\n",
    "### Loi de $\\mu$ :\n",
    "\n",
    "Without prior\n",
    "\n",
    "$ \\pi_{\\mu | X_{[0,T]},Y_{[0,T]},\\sigma,\\phi,X_{-1}} (.|x_{[0,T]},y_{[0,T]},\\sigma,\\phi,x_{-1}) \\sim \\mathcal{N}(C,D) $\n",
    "with $ \\begin{cases}\n",
    "      D = \\frac{\\sigma^2}{(T+1)(\\phi-1)^2} \\\\\n",
    "      C = D\\frac{(\\phi-1)}{\\sigma^2} \\sum_{t=0}^T (\\phi x_{t-1} - x_t)\n",
    "    \\end{cases} $"
   ]
  },
  {
   "cell_type": "markdown",
   "id": "bbc91bd4",
   "metadata": {},
   "source": [
    "### Loi de $\\sigma$ :\n",
    "\n",
    "Prior distribution : $ \\pi_0(\\sigma^2) \\sim \\mathcal{IG}(\\frac{\\sigma_1}{2},\\frac{S_1}{2}) $\n",
    "\n",
    "$\\pi_{\\sigma^2 | X_{[0,T]},Y_{[0,T]},\\mu,\\phi,X_{-1}} (.|x_{[0,T]},y_{[0,T]},\\mu,\\phi,x_{-1}) \\sim \\mathcal{IG}(A,B) $\n",
    "with $ \\begin{cases}\n",
    "      A = \\frac{T+1+\\sigma_1}{2} \\\\\n",
    "      B = \\frac{ \\sum_{t=0}^T( (x_{t}-\\mu) - \\phi(x_{t-1}-\\mu))^2}{2}  + \\frac{S_1}{2}\n",
    " \\end{cases} $\n"
   ]
  },
  {
   "cell_type": "markdown",
   "id": "aac17bb3",
   "metadata": {},
   "source": [
    "### Loi de $\\phi$ :\n",
    "\n",
    "Prior distribution : $ \\pi_0(\\phi) \\sim \\mathcal{N}(\\mu_\\phi,\\sigma_\\phi) $\n",
    "\n",
    "\n",
    "$\\pi_{\\phi | X_{[0,T]},Y_{[0,T]},\\mu,\\sigma,X_{-1}} (.|x_{[0,T]},y_{[0,T]},\\mu,\\sigma,x_{-1}) \\sim \\mathcal{N}(E,F) $\n",
    "with $ \\begin{cases}\n",
    "      F = ( \\sum_{t=0}^T \\frac{(x_{t-1} - \\mu )^2}{\\sigma^2} + \\frac{1}{\\sigma_\\phi^2} )^{-1} \\\\\n",
    "      E = F .[ \\sum_{t=0}^T \\frac{(x_{t}-\\mu)(x_{t-1}-\\mu)}{\\sigma^2}  + \\frac{\\mu_\\phi}{\\sigma_\\phi^2} ]\n",
    " \\end{cases} $"
   ]
  },
  {
   "cell_type": "markdown",
   "id": "dea31be7",
   "metadata": {},
   "source": [
    "### Loi de $X_t$ :\n",
    "\n",
    "$\\forall t \\in [1,T-1], \\pi_{X_t | X_{-t},Y_{[0,T]},\\mu,\\sigma,X_{-1},\\phi} (k|x_{-t},y_{[0,T]},\\mu,\\sigma,x_{-1}, \\phi) \\propto \n",
    "\\exp{ (\\frac{-1}{2\\sigma^2}\\{ (k-mu)^2(1+\\phi^2) - 2\\phi(k-\\mu)(x_{t-1}+x_{t+1}-2\\mu)   \\} -\\frac{y_t^2}{2e^k} - \\frac{x}{2}  ) }$\n",
    "\n",
    "Ce n'est pas une loi connue"
   ]
  },
  {
   "cell_type": "markdown",
   "id": "7cb356d5",
   "metadata": {},
   "source": [
    "## L'algorithme de Gibbs : \n",
    "\n",
    "$\\mu^0 = 0 \\mbox{ or } \\mu^0 \\sim \\mathcal{N}(0,10) \\\\\n",
    "\\phi^0 \\sim \\mathcal{N}(\\mu_\\phi,\\sigma_\\phi) \\\\\n",
    "\\sigma^0 \\sim \\mathcal{IG}(\\frac{\\sigma_1}{2},\\frac{S_1}{2}) \\\\\n",
    "\\begin{align}\n",
    "    X_{[-1,T]} ^0 &= \\begin{bmatrix}\n",
    "           \\mu^0 \\\\\n",
    "           \\mu^0 \\\\\n",
    "           \\vdots \\\\\n",
    "           \\mu^0\n",
    "      \\end{bmatrix}\n",
    "\\end{align} $\n",
    "\n",
    "\n",
    "$ \\forall n \\in [1,N] :\\\\\n",
    "   \\qquad X_{-1}^n = \\mu^{n-1} \\\\\n",
    "   \\qquad X_{[0,T]}^n \\sim \\mbox{Metropolis}(\\mu^{n-1},\\phi^{n-1},\\sigma^{n-1},X_{[0,T]}^{n-1}, Y_{[0,T]}, X_{-1}^n) \\\\\n",
    "   \\qquad (\\sigma^n)^2 \\sim \\pi_{\\sigma^2 | X_{[0,T]},Y_{[0,T]},\\mu,\\phi,X_{-1}} (.|X_{[0,T]}^n,Y_{[0,T]},\\mu^{n-1},\\phi^{n-1},X_{-1}^n) \\\\\n",
    "   \\qquad \\sigma^n = \\sqrt{(\\sigma^n)^2} \\\\\n",
    "   \\qquad \\phi^n \\sim \\pi_{\\phi | X_{[0,T]},Y_{[0,T]},\\mu,\\sigma,X_{-1}} (.|X_{[0,T]}^n,Y_{[0,T]},\\mu^{n-1},\\sigma^n,X_{-1}^n) \\\\\n",
    "   \\qquad \\mu^n \\sim \\pi_{\\mu | X_{[0,T]},Y_{[0,T]},\\sigma,\\phi,X_{-1}} (.|X_{[0,T]}^n,Y_{[0,T]},\\sigma^n,\\phi^n,X_{-1}^n)$"
   ]
  },
  {
   "cell_type": "markdown",
   "id": "ff5cff0f",
   "metadata": {},
   "source": [
    "## L'algorithme de Metropolis :\n",
    "\n",
    "La loi invariante de $X_t$ n'étant pas connue, on va utiliser un algo de Metropolis pour la simuler :\n",
    "\n",
    "Pour cela on se sert du fait que :\n",
    "$ X_t | X_{-t},\\phi,\\mu,\\sigma \\sim \\mathcal{N}(\\mu + \\phi(X_{t-1} - \\mu), (\\sigma)^2) \\mbox{ indépdendant de la simulation précédente de } X_t$\n",
    "\n",
    "Notons $f_{X_t | X_{t-1},\\phi,\\mu,\\sigma} (. | X_{t-1},\\phi,\\mu,\\sigma)$  sa densité.\n",
    "\n",
    "\n",
    "\n",
    "\n",
    "$\\forall n \\in [1,N], \\mbox{Metropolis}(\\mu^{n-1},\\phi^{n-1},\\sigma^{n-1},X_{[0,T]}^{n-1}, Y_{[0,T]}, X_{-1}^n)$\n",
    "\n",
    "\n",
    "$ \\forall k \\in nbsimu : \\\\\n",
    "xsimu = X_{t}^{n-1} \\\\\n",
    "\\forall t \\in [1,T-1] : \\\\\n",
    "\\qquad X_{new} \\sim \\mathcal{N}(\\mu^{n-1} + \\phi^{n-1}(X_{t-1}^n - \\mu^{n-1}), (\\sigma^{n-1})^2) \\\\\n",
    "\\qquad U \\sim \\mathcal{U}(0,1) \\\\\n",
    "\\qquad r = \\frac { \\pi_{X_t | X_{-t},Y_{[0,T]},\\mu,\\sigma,X_{-1}, \\phi} (X_{new}|(X_{[0,t-1]}^n,X_{[t+1,T]}^{n-1}),Y_{[0,T]},\\mu^{n-1},\\sigma^{n-1},x_{-1}^{n}, \\phi^{n-1}) } { \\pi_{Xsimu | X_{-t},Y_{[0,T]},\\mu,\\sigma,X_{-1}, \\phi} (Xsimu|(X_{[0,t-1]}^n,X_{[t+1,T]}^{n-1}),Y_{[0,T]},\\mu^{n-1},\\sigma^{n-1},x_{-1}^{n},\\phi^{n-1})} . \n",
    "\\frac{f_{X_{t} | X_{t-1},\\phi,\\mu,\\sigma} (Xsimu | X_{t-1}^n,\\phi^{n-1},\\mu^{n-1},\\sigma^{n-1})}{f_{X_t | X_{t-1},\\phi,\\mu,\\sigma} (X_{new} | X_{t-1}^n,\\phi^{n-1},\\mu^{n-1},\\sigma^{n-1})} \\\\\n",
    "\\qquad Si \\space U < min(1,r) : \\\\\n",
    "\\qquad \\qquad xsimu = X_{new} \\\\\n",
    "\\qquad Sinon : \\\\\n",
    "\\qquad \\qquad xsimu = xsimu \\\\\n",
    "X_t^n = xsimu$ \n",
    "\n"
   ]
  },
  {
   "cell_type": "markdown",
   "id": "541aba73",
   "metadata": {},
   "source": [
    "## L'algorithme d'acceptation rejet\n",
    "\n",
    "Un autre moyen de simuler Xt est d'utiliser un algorithme d'acceptation rejet.\n",
    "D'après Kim & Al. 1998\n",
    "\n",
    "On utilise le fait que $\\forall t \\in [1,T-1], \\pi_{X_t | X_{-t},Y_{[0,T]},\\mu,\\sigma,X_{-1}} (k|x_{-t},y_{[0,T]},\\mu,\\sigma,x_{-1}) \\propto \n",
    "\\exp{ (\\frac{-1}{2\\sigma^2}\\{ (k-mu)^2(1+\\phi^2) - 2\\phi(k-\\mu)(x_{t-1}+x_{t+1}-2\\mu)   \\})}\\exp{( -\\frac{y_t^2}{2e^k} - \\frac{x}{2}  ) } \\propto f_{X_t | X_{-t},\\mu,\\sigma,X_{-1}}(k |x_{-t},\\mu,\\sigma,x_{-1}) )  f_{Y_t | X_{-t},X_t,\\mu,\\sigma,X_{-1}}(y_t | x_{-t},k,y_{[0,T]},\\mu,\\sigma,x_{-1}))$\n",
    "\n",
    "On va donc supposer pouvoir tirer $X_t \\sim f_{X_t | X_{-t},\\mu,\\sigma,X_{-1}, \\phi}(k |x_{-t},\\mu,\\sigma,x_{-1}, \\phi) )$ et utiliser l'acceptation rejet. Or $f_{X_t | X_{-t},\\mu,\\sigma,X_{-1}, \\phi}(k |x_{-t},\\mu,\\sigma,x_{-1}, \\phi) ) \\propto \\exp(-\\frac{(k-G)^2}{2\\eta^2})$ avec \n",
    "$\\begin{cases}\n",
    "      \\eta = \\sqrt{\\frac{\\sigma^2}{1+\\phi^2}} \\\\\n",
    "      G_t = \\mu + \\frac{\\phi(x_{t-1}+x_{t+1}-2\\mu)}{1+\\phi^2}\n",
    " \\end{cases} $.\n",
    "\n",
    "On va commencer par chercher une densité qui domine $ \\pi_{X_t | X_{-t},Y_{[0,T]},\\mu,\\sigma,X_{-1}} (k|x_{-t},y_{[0,T]},\\mu,\\sigma,x_{-1})$\n",
    "\n",
    "On à $ \\log(f_{Y_t | X_{-t},X_t,\\mu,\\sigma,X_{-1}}(y_t | x_{-t},k,y_{[0,T]},\\mu,\\sigma,x_{-1})) = -\\frac{k}{2} -\\frac{y_t^2}{2\\exp(k)} \\leq -\\frac{k}{2} -\\frac{y_t^2}{2}( \\exp(-G_t)(1+G_t) - k\\exp(-G_t) ) = \\log(g(y_t,k,G_t, \\mu,\\phi,\\sigma))$\n",
    "\n",
    "donc on a va faire l'algorithme suivant :\n",
    "\n",
    "$\\forall t \\in [1,T-1] : \\\\\n",
    "\\qquad X_t^n = 0 \\\\\n",
    "\\qquad \\mbox{ tant que} X_t^n = 0 \\mbox{ et } i<iter :\\\\\n",
    "\\qquad \\qquad X_{new} \\sim \\mathcal{N}(G_t + \\frac{\\eta^2}{2}(y_t^2\\exp(-G_t)-1), \\eta^2) \\\\\n",
    "\\qquad \\qquad U \\sim \\mathcal{U}(0,1) \\\\\n",
    "\\qquad \\qquad \\mbox{ Si } U< \\frac{f_{Y_t | X_{-t},X_t,\\mu,\\sigma,X_{-1}}(y_t | x_{-t},X_{new},y_{[0,T]},\\mu,\\sigma,x_{-1})}{g(y_t,X_{new},G_t, \\mu,\\phi,\\sigma)} : \\\\\n",
    "\\qquad \\qquad \\qquad X_t^n = X_{new} \\\\\n",
    "\\qquad \\qquad i = i+1 \\\\\n",
    "\\qquad \\mbox{ si } X_t^n = 0 : \\\\\n",
    "\\qquad \\qquad X_t^n = X_t^{n-1}$ \n"
   ]
  },
  {
   "cell_type": "code",
   "execution_count": 11,
   "id": "17cbde6f",
   "metadata": {},
   "outputs": [],
   "source": [
    "def Gibbs_sampler(Y,random_seed,N, init,hyperparams, func ):\n",
    "    \n",
    "    T = len(Y)-1\n",
    "    \n",
    "    sigma_1, S1, sigma_theta,mu_theta = hyperparams\n",
    "    \n",
    "    if init == None :\n",
    "        N1,N2 = law.normal()\n",
    "        theta0 = N1*sigma_theta + mu_theta\n",
    "        mu0 = N2*np.sqrt(10) \n",
    "        sigma0 = np.sqrt(law.inverse_gamma(sigma_1/2,S1/2))\n",
    "    else :\n",
    "        theta0,mu0,sigma0 = init\n",
    "    \n",
    "    theta = np.zeros(N+1) \n",
    "    theta[0] = theta0\n",
    "    mu = np.zeros(N+1) \n",
    "    mu[0] = mu0\n",
    "    sigma = np.zeros(N+1) \n",
    "    sigma[0] = sigma0\n",
    "    \n",
    "    \n",
    "    X = np.zeros((T+2,N+1)) #each time X[:,i][0] is the X-1\n",
    "    X[:,0] = np.array([mu0 for i in range(T+2)])\n",
    "    for i in range(N):\n",
    "        N1,N2 = law.normal()\n",
    "        \n",
    "        #selection de Xi\n",
    "        Xi = X[:,i+1]\n",
    "        Xi[0] = mu[i]\n",
    "        #MAJ de XtXt,mu,sigma,theta,Y, Xt_1\n",
    "        Xi[1:T+2] = func(Xi,mu[i],sigma[i],theta[i],Y, X[:,i])\n",
    "    \n",
    "        X[:,i+1] = Xi\n",
    "    \n",
    "        #Update de Sigma -----sigma, problème sur la loi.... inverse gamma semble pas marcher comme elle le devrait....\n",
    "        #On a des résultats cohérents, mais uniquement avec une loi qui ne devrait pas l'être...\n",
    "        \n",
    "        #sigma[i+1] = np.sqrt(1/np.random.gamma((T+1+sigma_1)/2,1/(sum(((Xi[1:T+2]-mu[i]) - theta[i]*(Xi[0:T+1]-mu[i]))**2)/2+S1/2)))\n",
    "        sigma[i+1] = np.sqrt(law.inverse_gamma((T+1+sigma_1)/2,sum(((Xi[1:T+2]-mu[i]) - theta[i]*(Xi[0:T+1]-mu[i]))**2)/2+S1/2))\n",
    "        \n",
    "        ## Update de theta, il y a surement un problème ici...\n",
    "        B = 1/( sum((Xi[0:T+1]-mu[i])**2) /(sigma[i+1])**2 + 1/(sigma_theta)**2)\n",
    "        A = B * ( sum((Xi[0:T+1]-mu[i])*(Xi[1:T+2]-mu[i]))/(sigma[i+1])**2 + mu_theta/(sigma_theta)**2)\n",
    "        \n",
    "        #theta_new = A + np.sqrt(B)*N1\n",
    "        theta[i+1] = truncnorm.rvs(-1, 1, loc = A, scale = np.sqrt(B), size=1) [0]\n",
    "        #if abs(theta_new)>= 1:\n",
    "        #    theta[i+1] = theta[i]\n",
    "        #else :\n",
    "        #    theta[i+1] = theta_new\n",
    "        \n",
    "        #update de mu\n",
    "        \n",
    "        C = sigma[i+1]**2/((T+1)*(theta[i+1]-1)**2)\n",
    "        #D = C*(theta[i+1]-1)/sigma[i+1]**2 * sum((theta[i+1] * Xi[0:T+1] - Xi[1:T+2])) \n",
    "        D = C*(theta[i+1]-1)/sigma[i+1]**2 * ( sum((theta[i+1] * Xi[1:T+1] - Xi[2:T+2])) +Xi[1])\n",
    "        #print(D)\n",
    "        mu[i+1] = D + np.sqrt(C)*N2\n",
    "        \n",
    "    return(mu,theta,sigma,X)"
   ]
  },
  {
   "cell_type": "markdown",
   "id": "a082ca97",
   "metadata": {},
   "source": [
    "## Simulation de Y et Xt"
   ]
  },
  {
   "cell_type": "code",
   "execution_count": 12,
   "id": "86fa11c3",
   "metadata": {},
   "outputs": [],
   "source": [
    "def Y_X(T,mu0,sigma0,theta0):\n",
    "    \n",
    "    X=np.zeros(T+2)\n",
    "    Y = np.zeros(T+1)\n",
    "    X[0] = mu0\n",
    "    for t in range(1,T+2) :\n",
    "        N1,N2 = law.normal()\n",
    "        X[t] = N1*sigma0 + mu0 + theta0*(X[t-1]-mu0)\n",
    "        Y[t-1] = N2*np.sqrt(np.exp(X[t]))\n",
    "        \n",
    "    return np.array(Y), np.array(X[1:])"
   ]
  },
  {
   "cell_type": "code",
   "execution_count": 13,
   "id": "2873e54c",
   "metadata": {},
   "outputs": [],
   "source": [
    "mu0,sigma0,theta0 = 3,0.1,0.95\n",
    "T = 100"
   ]
  },
  {
   "cell_type": "code",
   "execution_count": 14,
   "id": "7ca046ba",
   "metadata": {},
   "outputs": [],
   "source": [
    "Y,X0 = Y_X(T,mu0,sigma0,theta0)"
   ]
  },
  {
   "cell_type": "code",
   "execution_count": 15,
   "id": "a829a4e8",
   "metadata": {},
   "outputs": [
    {
     "data": {
      "image/png": "[encoded data removed]",
      "text/plain": [
       "<Figure size 432x288 with 1 Axes>"
      ]
     },
     "metadata": {
      "needs_background": "light"
     },
     "output_type": "display_data"
    }
   ],
   "source": [
    "plt.plot(Y)\n",
    "plt.grid()\n",
    "plt.xlabel('Time')\n",
    "plt.title('Y')\n",
    "plt.show()"
   ]
  },
  {
   "cell_type": "code",
   "execution_count": 16,
   "id": "e80d7e67",
   "metadata": {},
   "outputs": [
    {
     "data": {
      "image/png": "[encoded data removed]",
      "text/plain": [
       "<Figure size 432x288 with 1 Axes>"
      ]
     },
     "metadata": {
      "needs_background": "light"
     },
     "output_type": "display_data"
    }
   ],
   "source": [
    "plt.plot(X0[1:])\n",
    "plt.grid()\n",
    "plt.xlabel('Time')\n",
    "plt.title('X')\n",
    "plt.show()"
   ]
  },
  {
   "cell_type": "markdown",
   "id": "a3d07acd",
   "metadata": {},
   "source": [
    "## Resultats avec metropolis"
   ]
  },
  {
   "cell_type": "code",
   "execution_count": null,
   "id": "9c64b2c8",
   "metadata": {},
   "outputs": [],
   "source": [
    "sigma_1, S1, sigma_theta,mu_theta = 5,0.01*5,0.01,theta0\n",
    "hyperparams = sigma_1, S1, sigma_theta,mu_theta\n",
    "init = None #theta0,mu0,sigma0\n",
    "N = 1000\n",
    "mu,theta,sigma,X = Gibbs_sampler(Y,0,N,init,hyperparams, law.metro_hasting)  #func = law.accptation ou law.metro_hasting"
   ]
  },
  {
   "cell_type": "code",
   "execution_count": null,
   "id": "eef36a14",
   "metadata": {
    "scrolled": false
   },
   "outputs": [],
   "source": [
    "offset = 100#N//10000\n",
    "plt.plot(X[1:,-offset:]) #On retire les premier tirage, car il faut un certain temps à l'algorithme pour se lancer...\n",
    "plt.grid()\n",
    "plt.ylabel('Value of X')\n",
    "plt.xlabel('Time')\n",
    "plt.show()"
   ]
  },
  {
   "cell_type": "code",
   "execution_count": null,
   "id": "5908fb58",
   "metadata": {},
   "outputs": [],
   "source": [
    "m =[]\n",
    "h = []\n",
    "l = []\n",
    "for i in range(1,len(X[:,0])):\n",
    "    m.append(np.mean(X[i,-offset:]))\n",
    "    h.append(np.max(X[i,-offset:]))\n",
    "    l.append(np.min(X[i,-offset:]))"
   ]
  },
  {
   "cell_type": "code",
   "execution_count": null,
   "id": "3131862c",
   "metadata": {},
   "outputs": [],
   "source": [
    "plt.plot(m, label = 'Mean estimation of X')\n",
    "plt.plot(X0, label='Real value of X')\n",
    "#plt.plot(l,'red')\n",
    "#plt.plot(h,'red')\n",
    "plt.legend()\n",
    "plt.grid()\n",
    "plt.show()"
   ]
  },
  {
   "cell_type": "code",
   "execution_count": null,
   "id": "92ff7c92",
   "metadata": {
    "scrolled": true
   },
   "outputs": [],
   "source": [
    "plt.plot(mu)\n",
    "plt.grid()\n",
    "plt.title('Trace de $\\mu$')\n",
    "plt.xlabel('iteration')\n",
    "plt.show()\n",
    "plt.hist(mu,100)\n",
    "plt.title('histogramme de $\\mu$')\n",
    "plt.grid()\n",
    "plt.show()\n",
    "plot_acf(mu)\n",
    "plt.grid()\n",
    "plt.xlabel('lag')\n",
    "plt.title('Autocorrelogram of $\\mu$')\n",
    "plt.show()"
   ]
  },
  {
   "cell_type": "code",
   "execution_count": null,
   "id": "a5a0e880",
   "metadata": {
    "scrolled": true
   },
   "outputs": [],
   "source": [
    "plt.plot(sigma)\n",
    "plt.grid()\n",
    "plt.title('Trace de $\\sigma$')\n",
    "plt.xlabel('iteration')\n",
    "plt.show()\n",
    "plt.hist(sigma,100)\n",
    "plt.title('histogramme de $\\sigma$')\n",
    "plt.grid()\n",
    "plt.show()\n",
    "plot_acf(sigma)\n",
    "plt.xlabel('Lag')\n",
    "plt.title('Autocorrelogram of $\\sigma$')\n",
    "plt.grid()\n",
    "plt.show()"
   ]
  },
  {
   "cell_type": "code",
   "execution_count": null,
   "id": "a79c9a89",
   "metadata": {},
   "outputs": [],
   "source": [
    "plt.plot(theta)\n",
    "plt.grid()\n",
    "plt.title('Trace de $\\phi$')\n",
    "plt.xlabel('iteration')\n",
    "plt.show()\n",
    "plt.hist(theta,100)\n",
    "plt.title('histogramme de $\\phi$')\n",
    "plt.grid()\n",
    "plt.show()\n",
    "plot_acf(theta)\n",
    "plt.xlabel('Lag')\n",
    "plt.title('Autocorrelogram of $\\phi$')\n",
    "plt.grid()\n",
    "plt.show()"
   ]
  },
  {
   "cell_type": "code",
   "execution_count": null,
   "id": "5da35e24",
   "metadata": {},
   "outputs": [],
   "source": [
    "print('sigma as a mean of : {0:.3f} and a std of {1:.3f}'.format(np.mean(sigma),np.std(sigma)))\n",
    "print('mu as a mean of : {0:.3f} and a std of {1:.3f}'.format(np.mean(mu),np.std(mu)))\n",
    "print('phi as a mean of : {0:.3f} and a std of {1:.3f}'.format(np.mean(theta),np.std(theta)))"
   ]
  },
  {
   "cell_type": "markdown",
   "id": "b9e60cd5",
   "metadata": {},
   "source": [
    "## Resultats avec acceptation-rejet"
   ]
  },
  {
   "cell_type": "code",
   "execution_count": null,
   "id": "e76a2b4e",
   "metadata": {},
   "outputs": [],
   "source": [
    "sigma_1, S1, sigma_theta,mu_theta = 5,0.01*5,0.01,theta0\n",
    "hyperparams = sigma_1, S1, sigma_theta,mu_theta\n",
    "init = None #theta0,mu0,sigma0\n",
    "N = 5000\n",
    "mu,theta,sigma,X = Gibbs_sampler(Y,0,N,init,hyperparams, law.accption)  #func = law.accption ou law.metro_hasting"
   ]
  },
  {
   "cell_type": "code",
   "execution_count": null,
   "id": "6510662c",
   "metadata": {},
   "outputs": [],
   "source": [
    "offset = 100#N//10000\n",
    "plt.plot(X[1:,-offset:]) #On retire les premier tirage, car il faut un certain temps à l'algorithme pour se lancer...\n",
    "plt.grid()\n",
    "plt.ylabel('Value of X')\n",
    "plt.xlabel('Time')\n",
    "plt.show()"
   ]
  },
  {
   "cell_type": "code",
   "execution_count": null,
   "id": "80b6d195",
   "metadata": {},
   "outputs": [],
   "source": [
    "m =[]\n",
    "h = []\n",
    "l = []\n",
    "for i in range(1,len(X[:,0])):\n",
    "    m.append(np.mean(X[i,-offset:]))\n",
    "    h.append(np.max(X[i,-offset:]))\n",
    "    l.append(np.min(X[i,-offset:]))"
   ]
  },
  {
   "cell_type": "code",
   "execution_count": null,
   "id": "afc991ab",
   "metadata": {},
   "outputs": [],
   "source": [
    "plt.plot(m, label = 'Mean estimation of X')\n",
    "plt.plot(X0, label='Real value of X')\n",
    "#plt.plot(l,'red')\n",
    "#plt.plot(h,'red')\n",
    "plt.legend()\n",
    "plt.grid()\n",
    "plt.show()"
   ]
  },
  {
   "cell_type": "code",
   "execution_count": null,
   "id": "dc9eee78",
   "metadata": {},
   "outputs": [],
   "source": [
    "plt.plot(mu)\n",
    "plt.grid()\n",
    "plt.title('Trace de $\\mu$')\n",
    "plt.xlabel('iteration')\n",
    "plt.show()\n",
    "plt.hist(mu,100)\n",
    "plt.title('histogramme de $\\mu$')\n",
    "plt.grid()\n",
    "plt.show()\n",
    "plot_acf(mu)\n",
    "plt.grid()\n",
    "plt.xlabel('lag')\n",
    "plt.title('Autocorrelogram of $\\mu$')\n",
    "plt.show()"
   ]
  },
  {
   "cell_type": "code",
   "execution_count": null,
   "id": "cf1e7d91",
   "metadata": {},
   "outputs": [],
   "source": [
    "plt.plot(sigma)\n",
    "plt.grid()\n",
    "plt.title('Trace de $\\sigma$')\n",
    "plt.xlabel('iteration')\n",
    "plt.show()\n",
    "plt.hist(sigma,100)\n",
    "plt.title('histogramme de $\\sigma$')\n",
    "plt.grid()\n",
    "plt.show()\n",
    "plot_acf(sigma)\n",
    "plt.xlabel('Lag')\n",
    "plt.title('Autocorrelogram of $\\sigma$')\n",
    "plt.grid()\n",
    "plt.show()"
   ]
  },
  {
   "cell_type": "code",
   "execution_count": null,
   "id": "11e333f5",
   "metadata": {},
   "outputs": [],
   "source": [
    "plt.plot(theta)\n",
    "plt.grid()\n",
    "plt.title('Trace de $\\phi$')\n",
    "plt.xlabel('iteration')\n",
    "plt.show()\n",
    "plt.hist(theta,100)\n",
    "plt.title('histogramme de $\\phi$')\n",
    "plt.grid()\n",
    "plt.show()\n",
    "plot_acf(theta)\n",
    "plt.xlabel('Lag')\n",
    "plt.title('Autocorrelogram of $\\phi$')\n",
    "plt.grid()\n",
    "plt.show()"
   ]
  },
  {
   "cell_type": "code",
   "execution_count": null,
   "id": "5436a4a8",
   "metadata": {},
   "outputs": [],
   "source": [
    "print('sigma as a mean of : {0:.3f} and a std of {1:.3f}'.format(np.mean(sigma),np.std(sigma)))\n",
    "print('mu as a mean of : {0:.3f} and a std of {1:.3f}'.format(np.mean(mu),np.std(mu)))\n",
    "print('phi as a mean of : {0:.3f} and a std of {1:.3f}'.format(np.mean(theta),np.std(theta)))"
   ]
  },
  {
   "cell_type": "markdown",
   "id": "409631e1",
   "metadata": {},
   "source": [
    "# Test question 4"
   ]
  },
  {
   "cell_type": "code",
   "execution_count": null,
   "id": "bb84c832",
   "metadata": {},
   "outputs": [],
   "source": [
    "import yfinance as yf\n",
    "\n",
    "vix = yf.Ticker(\"^VIX\")\n",
    "dfvix = vix.history(period=\"max\")"
   ]
  },
  {
   "cell_type": "code",
   "execution_count": null,
   "id": "d4244195",
   "metadata": {},
   "outputs": [],
   "source": [
    "sp = yf.Ticker(\"^GSPC\")\n",
    "dfsp = sp.history(period=\"max\")"
   ]
  },
  {
   "cell_type": "code",
   "execution_count": null,
   "id": "cf207015",
   "metadata": {},
   "outputs": [],
   "source": [
    "y = np.log(dfsp[9300:9600].Close.to_list())\n",
    "y = np.array(y[1:] - y[:len(y)-1])"
   ]
  },
  {
   "cell_type": "code",
   "execution_count": null,
   "id": "3c2b1ffe",
   "metadata": {},
   "outputs": [],
   "source": [
    "plt.plot(y)\n",
    "plt.grid()\n",
    "plt.show()"
   ]
  },
  {
   "cell_type": "code",
   "execution_count": null,
   "id": "c15b2c50",
   "metadata": {},
   "outputs": [],
   "source": [
    "sigma_1, S1, sigma_theta,mu_theta = 5,0.01*5,0.01,0.95\n",
    "hyperparams = sigma_1, S1, sigma_theta,mu_theta\n",
    "init = None #theta0,mu0,sigma0\n",
    "N = 5000\n",
    "mu,theta,sigma,X = Gibbs_sampler(y,0,N,init,hyperparams, law.accption)"
   ]
  },
  {
   "cell_type": "code",
   "execution_count": null,
   "id": "6f9ed1e9",
   "metadata": {},
   "outputs": [],
   "source": [
    "offset = 100#N//10000\n",
    "plt.plot(X[1:,-offset:]) #On retire les premier tirage, car il faut un certain temps à l'algorithme pour se lancer...\n",
    "plt.grid()\n",
    "plt.ylabel('Value of X')\n",
    "plt.xlabel('Time')\n",
    "plt.show()"
   ]
  },
  {
   "cell_type": "code",
   "execution_count": null,
   "id": "784eb168",
   "metadata": {},
   "outputs": [],
   "source": [
    "m =[]\n",
    "h = []\n",
    "l = []\n",
    "for i in range(1,len(X[:,0])):\n",
    "    m.append(np.mean(X[i,-offset:]))\n",
    "    h.append(np.max(X[i,-offset:]))\n",
    "    l.append(np.min(X[i,-offset:]))"
   ]
  },
  {
   "cell_type": "code",
   "execution_count": null,
   "id": "99b4c7b2",
   "metadata": {},
   "outputs": [],
   "source": [
    "Xvix = dfvix[9500:10000].Close.to_list()\n",
    "plt.plot(m, label = 'Mean estimation of X')\n",
    "#plt.plot(Xvix, label='Real value of X')\n",
    "#plt.plot(l,'red')\n",
    "#plt.plot(h,'red')\n",
    "plt.legend()\n",
    "plt.grid()\n",
    "plt.show()"
   ]
  },
  {
   "cell_type": "code",
   "execution_count": null,
   "id": "505d1201",
   "metadata": {},
   "outputs": [],
   "source": [
    "plt.plot(mu)\n",
    "plt.grid()\n",
    "plt.title('Trace de $\\mu$')\n",
    "plt.xlabel('iteration')\n",
    "plt.show()\n",
    "plt.hist(mu,100)\n",
    "plt.title('histogramme de $\\mu$')\n",
    "plt.grid()\n",
    "plt.show()\n",
    "plot_acf(mu)\n",
    "plt.grid()\n",
    "plt.xlabel('lag')\n",
    "plt.title('Autocorrelogram of $\\mu$')\n",
    "plt.show()"
   ]
  },
  {
   "cell_type": "code",
   "execution_count": null,
   "id": "df9fcc13",
   "metadata": {},
   "outputs": [],
   "source": [
    "plt.plot(sigma)\n",
    "plt.grid()\n",
    "plt.title('Trace de $\\sigma$')\n",
    "plt.xlabel('iteration')\n",
    "plt.show()\n",
    "plt.hist(sigma,100)\n",
    "plt.title('histogramme de $\\sigma$')\n",
    "plt.grid()\n",
    "plt.show()\n",
    "plot_acf(sigma)\n",
    "plt.xlabel('Lag')\n",
    "plt.title('Autocorrelogram of $\\sigma$')\n",
    "plt.grid()\n",
    "plt.show()"
   ]
  },
  {
   "cell_type": "code",
   "execution_count": null,
   "id": "f73270e8",
   "metadata": {},
   "outputs": [],
   "source": [
    "plt.plot(theta)\n",
    "plt.grid()\n",
    "plt.title('Trace de $\\phi$')\n",
    "plt.xlabel('iteration')\n",
    "plt.show()\n",
    "plt.hist(theta,100)\n",
    "plt.title('histogramme de $\\phi$')\n",
    "plt.grid()\n",
    "plt.show()\n",
    "plot_acf(theta)\n",
    "plt.xlabel('Lag')\n",
    "plt.title('Autocorrelogram of $\\phi$')\n",
    "plt.grid()\n",
    "plt.show()"
   ]
  },
  {
   "cell_type": "code",
   "execution_count": null,
   "id": "a58ba998",
   "metadata": {},
   "outputs": [],
   "source": [
    "print('sigma as a mean of : {0:.3f} and a std of {1:.3f}'.format(np.mean(sigma),np.std(sigma)))\n",
    "print('mu as a mean of : {0:.3f} and a std of {1:.3f}'.format(np.mean(mu),np.std(mu)))\n",
    "print('phi as a mean of : {0:.3f} and a std of {1:.3f}'.format(np.mean(theta),np.std(theta)))"
   ]
  },
  {
   "cell_type": "code",
   "execution_count": null,
   "id": "8394502a",
   "metadata": {},
   "outputs": [],
   "source": []
  }
 ],
 "metadata": {
  "kernelspec": {
   "display_name": "Python 3 (ipykernel)",
   "language": "python",
   "name": "python3"
  },
  "language_info": {
   "codemirror_mode": {
    "name": "ipython",
    "version": 3
   },
   "file_extension": ".py",
   "mimetype": "text/x-python",
   "name": "python",
   "nbconvert_exporter": "python",
   "pygments_lexer": "ipython3",
   "version": "3.9.7"
  }
 },
 "nbformat": 4,
 "nbformat_minor": 5
}
